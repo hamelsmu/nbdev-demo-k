{
 "cells": [
  {
   "cell_type": "markdown",
   "metadata": {},
   "source": [
    "# core\n",
    "\n",
    "> Fill in a module description here"
   ]
  },
  {
   "cell_type": "code",
   "execution_count": 1,
   "metadata": {},
   "outputs": [],
   "source": [
    "#| default_exp core"
   ]
  },
  {
   "cell_type": "code",
   "execution_count": 1,
   "metadata": {},
   "outputs": [],
   "source": [
    "#| hide\n",
    "from nbdev.showdoc import *"
   ]
  },
  {
   "cell_type": "code",
   "execution_count": 2,
   "metadata": {},
   "outputs": [],
   "source": [
    "from nbdev.config import get_config, _apply_defaults"
   ]
  },
  {
   "cell_type": "code",
   "execution_count": null,
   "metadata": {},
   "outputs": [
    {
     "name": "stdout",
     "output_type": "stream",
     "text": [
      "> \u001b[0;32m/Users/hamel/github/nbdev/nbdev/config.py\u001b[0m(200)\u001b[0;36mget_config\u001b[0;34m()\u001b[0m\n",
      "\u001b[0;32m    199 \u001b[0;31m    \u001b[0mcfg\u001b[0m \u001b[0;34m=\u001b[0m \u001b[0mConfig\u001b[0m\u001b[0;34m(\u001b[0m\u001b[0mcfg_file\u001b[0m\u001b[0;34m.\u001b[0m\u001b[0mparent\u001b[0m\u001b[0;34m,\u001b[0m \u001b[0mcfg_file\u001b[0m\u001b[0;34m.\u001b[0m\u001b[0mname\u001b[0m\u001b[0;34m,\u001b[0m \u001b[0mextra_files\u001b[0m\u001b[0;34m=\u001b[0m\u001b[0mextra_files\u001b[0m\u001b[0;34m,\u001b[0m \u001b[0mtypes\u001b[0m\u001b[0;34m=\u001b[0m\u001b[0m_types\u001b[0m\u001b[0;34m)\u001b[0m\u001b[0;34m\u001b[0m\u001b[0;34m\u001b[0m\u001b[0m\n",
      "\u001b[0m\u001b[0;32m--> 200 \u001b[0;31m    \u001b[0;32mreturn\u001b[0m \u001b[0m_apply_defaults\u001b[0m\u001b[0;34m(\u001b[0m\u001b[0mcfg\u001b[0m\u001b[0;34m)\u001b[0m\u001b[0;34m\u001b[0m\u001b[0;34m\u001b[0m\u001b[0m\n",
      "\u001b[0m\u001b[0;32m    201 \u001b[0;31m\u001b[0;34m\u001b[0m\u001b[0m\n",
      "\u001b[0m\n"
     ]
    }
   ],
   "source": [
    "get_config().get('jupyter_hooks')"
   ]
  },
  {
   "cell_type": "code",
   "execution_count": 18,
   "metadata": {},
   "outputs": [],
   "source": [
    "#| export\n",
    "def foo(): pass"
   ]
  },
  {
   "cell_type": "code",
   "execution_count": 10,
   "metadata": {},
   "outputs": [
    {
     "name": "stdout",
     "output_type": "stream",
     "text": [
      "[DEFAULT]\n",
      "# All sections below are required unless otherwise specified.\n",
      "# See https://github.com/fastai/nbdev/blob/master/settings.ini for examples.\n",
      "\n",
      "### Python library ###\n",
      "repo = nbdev-demo-k\n",
      "lib_name = %(repo)s\n",
      "version = 0.0.1\n",
      "min_python = 3.7\n",
      "license = apache2\n",
      "\n",
      "### nbdev ###\n",
      "doc_path = _docs\n",
      "lib_path = nbdev_demo_k\n",
      "nbs_path = .\n",
      "recursive = False\n",
      "tst_flags = notest\n",
      "\n",
      "### Docs ###\n",
      "branch = master\n",
      "custom_sidebar = False\n",
      "doc_host = https://%(user)s.github.io\n",
      "doc_baseurl = /%(repo)s\n",
      "git_url = https://github.com/%(user)s/%(repo)s\n",
      "title = %(lib_name)s\n",
      "custom_quarto_yml = False\n",
      "\n",
      "### PyPI ###\n",
      "audience = Developers\n",
      "author = Hamel Husain\n",
      "author_email = hamel.husain@gmail.com\n",
      "copyright = 2022 onwards, %(author)s\n",
      "description = a new repo to test stuff in\n",
      "keywords = nbdev jupyter notebook python\n",
      "language = English\n",
      "status = 3\n",
      "user = hamelsmu\n",
      "\n",
      "### Optional ###\n",
      "# requirements = fastcore pandas\n",
      "# dev_requirements = \n",
      "# console_scripts ="
     ]
    }
   ],
   "source": [
    "!cat settings.ini"
   ]
  },
  {
   "cell_type": "code",
   "execution_count": null,
   "metadata": {},
   "outputs": [],
   "source": [
    "#| hide\n",
    "import nbdev; nbdev.nbdev_export()"
   ]
  }
 ],
 "metadata": {
  "kernelspec": {
   "display_name": "Python 3 (ipykernel)",
   "language": "python",
   "name": "python3"
  },
  "language_info": {
   "codemirror_mode": {
    "name": "ipython",
    "version": 3
   },
   "file_extension": ".py",
   "mimetype": "text/x-python",
   "name": "python",
   "nbconvert_exporter": "python",
   "pygments_lexer": "ipython3",
   "version": "3.9.12"
  }
 },
 "nbformat": 4,
 "nbformat_minor": 4
}
